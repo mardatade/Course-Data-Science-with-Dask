{
 "cells": [
  {
   "cell_type": "markdown",
   "metadata": {},
   "source": [
    "# Single-machine task graph exection"
   ]
  },
  {
   "cell_type": "code",
   "execution_count": 1,
   "metadata": {},
   "outputs": [],
   "source": [
    "from pi_workload import define_pi_workload"
   ]
  },
  {
   "cell_type": "code",
   "execution_count": 2,
   "metadata": {},
   "outputs": [],
   "source": [
    "from dask.diagnostics import ProgressBar"
   ]
  },
  {
   "cell_type": "code",
   "execution_count": 3,
   "metadata": {},
   "outputs": [],
   "source": [
    "import numpy, time"
   ]
  },
  {
   "cell_type": "markdown",
   "metadata": {},
   "source": [
    "The `.compute()` method is a Dask collections \"build-in\" and allows larger-than-memory calculations with a local scheduler on a local Dask worker process. (For details especially on the scheduling mode, see [the official docs](https://docs.dask.org/en/latest/setup/single-machine.html).)"
   ]
  },
  {
   "cell_type": "code",
   "execution_count": 4,
   "metadata": {},
   "outputs": [
    {
     "name": "stdout",
     "output_type": "stream",
     "text": [
      "workload in giga bytes: 250.0\n",
      "500.0 chunks to process\n",
      "[########################################] | 100% Completed |  1min 14.4s\n",
      "pi computed:    3.141580055296\n",
      "pi from numpy:  3.141592653589793\n",
      "wall time:  74.41753339767456 sec\n"
     ]
    }
   ],
   "source": [
    "with ProgressBar():\n",
    "    \n",
    "    start = time.time()\n",
    "    pi = define_pi_workload().compute(scheduler='threads')\n",
    "    elapse = time.time() - start\n",
    "\n",
    "print('pi computed:   ', pi)\n",
    "print('pi from numpy: ', numpy.pi)\n",
    "print('wall time: ', elapse, 'sec')"
   ]
  },
  {
   "cell_type": "markdown",
   "metadata": {},
   "source": [
    "This apparently takes time, so let's watch local CPU and memory utilization with `top -u $USER`."
   ]
  },
  {
   "cell_type": "markdown",
   "metadata": {},
   "source": [
    "## Python environment"
   ]
  },
  {
   "cell_type": "code",
   "execution_count": 5,
   "metadata": {},
   "outputs": [
    {
     "name": "stdout",
     "output_type": "stream",
     "text": [
      "# This file may be used to create an environment using:\n",
      "# $ conda create --name <env> --file <this file>\n",
      "# platform: linux-64\n",
      "@EXPLICIT\n",
      "https://conda.anaconda.org/conda-forge/linux-64/_libgcc_mutex-0.1-conda_forge.tar.bz2\n",
      "https://conda.anaconda.org/conda-forge/linux-64/ca-certificates-2020.11.8-ha878542_0.tar.bz2\n",
      "https://conda.anaconda.org/conda-forge/linux-64/ld_impl_linux-64-2.35.1-hed1e6ac_0.tar.bz2\n",
      "https://conda.anaconda.org/conda-forge/linux-64/libgfortran5-9.3.0-he4bcb1c_17.tar.bz2\n",
      "https://conda.anaconda.org/conda-forge/linux-64/libstdcxx-ng-9.3.0-h2ae2ef3_17.tar.bz2\n",
      "https://conda.anaconda.org/conda-forge/linux-64/pandoc-2.11.1.1-h36c2ea0_0.tar.bz2\n",
      "https://conda.anaconda.org/conda-forge/linux-64/libgfortran-ng-9.3.0-he4bcb1c_17.tar.bz2\n",
      "https://conda.anaconda.org/conda-forge/linux-64/libgomp-9.3.0-h5dbcf3e_17.tar.bz2\n",
      "https://conda.anaconda.org/conda-forge/linux-64/_openmp_mutex-4.5-1_gnu.tar.bz2\n",
      "https://conda.anaconda.org/conda-forge/linux-64/libgcc-ng-9.3.0-h5dbcf3e_17.tar.bz2\n",
      "https://conda.anaconda.org/conda-forge/linux-64/jpeg-9d-h36c2ea0_0.tar.bz2\n",
      "https://conda.anaconda.org/conda-forge/linux-64/libffi-3.2.1-he1b5a44_1007.tar.bz2\n",
      "https://conda.anaconda.org/conda-forge/linux-64/libopenblas-0.3.12-pthreads_h4812303_1.tar.bz2\n",
      "https://conda.anaconda.org/conda-forge/linux-64/libsodium-1.0.18-h36c2ea0_1.tar.bz2\n",
      "https://conda.anaconda.org/conda-forge/linux-64/libwebp-base-1.1.0-h36c2ea0_3.tar.bz2\n",
      "https://conda.anaconda.org/conda-forge/linux-64/lz4-c-1.9.2-he1b5a44_3.tar.bz2\n",
      "https://conda.anaconda.org/conda-forge/linux-64/ncurses-6.2-h58526e2_4.tar.bz2\n",
      "https://conda.anaconda.org/conda-forge/linux-64/openssl-1.1.1h-h516909a_0.tar.bz2\n",
      "https://conda.anaconda.org/conda-forge/linux-64/xz-5.2.5-h516909a_1.tar.bz2\n",
      "https://conda.anaconda.org/conda-forge/linux-64/yaml-0.2.5-h516909a_0.tar.bz2\n",
      "https://conda.anaconda.org/conda-forge/linux-64/zlib-1.2.11-h516909a_1010.tar.bz2\n",
      "https://conda.anaconda.org/conda-forge/linux-64/libblas-3.9.0-2_openblas.tar.bz2\n",
      "https://conda.anaconda.org/conda-forge/linux-64/libpng-1.6.37-h21135ba_2.tar.bz2\n",
      "https://conda.anaconda.org/conda-forge/linux-64/readline-8.0-he28a2e2_2.tar.bz2\n",
      "https://conda.anaconda.org/conda-forge/linux-64/tk-8.6.10-hed695b0_1.tar.bz2\n",
      "https://conda.anaconda.org/conda-forge/linux-64/zeromq-4.3.3-h58526e2_2.tar.bz2\n",
      "https://conda.anaconda.org/conda-forge/linux-64/zstd-1.4.5-h6597ccf_2.tar.bz2\n",
      "https://conda.anaconda.org/conda-forge/linux-64/freetype-2.10.4-h7ca028e_0.tar.bz2\n",
      "https://conda.anaconda.org/conda-forge/linux-64/libcblas-3.9.0-2_openblas.tar.bz2\n",
      "https://conda.anaconda.org/conda-forge/linux-64/liblapack-3.9.0-2_openblas.tar.bz2\n",
      "https://conda.anaconda.org/conda-forge/linux-64/libtiff-4.1.0-h4f3a223_6.tar.bz2\n",
      "https://conda.anaconda.org/conda-forge/linux-64/sqlite-3.33.0-h4cf870e_1.tar.bz2\n",
      "https://conda.anaconda.org/conda-forge/linux-64/lcms2-2.11-hcbb858e_1.tar.bz2\n",
      "https://conda.anaconda.org/conda-forge/linux-64/python-3.8.6-h852b56e_0_cpython.tar.bz2\n",
      "https://conda.anaconda.org/conda-forge/noarch/async_generator-1.10-py_0.tar.bz2\n",
      "https://conda.anaconda.org/conda-forge/noarch/attrs-20.3.0-pyhd3deb0d_0.tar.bz2\n",
      "https://conda.anaconda.org/conda-forge/noarch/backcall-0.2.0-pyh9f0ad1d_0.tar.bz2\n",
      "https://conda.anaconda.org/conda-forge/noarch/backports-1.0-py_2.tar.bz2\n",
      "https://conda.anaconda.org/conda-forge/noarch/click-7.1.2-pyh9f0ad1d_0.tar.bz2\n",
      "https://conda.anaconda.org/conda-forge/noarch/cloudpickle-1.6.0-py_0.tar.bz2\n",
      "https://conda.anaconda.org/conda-forge/noarch/decorator-4.4.2-py_0.tar.bz2\n",
      "https://conda.anaconda.org/conda-forge/noarch/defusedxml-0.6.0-py_0.tar.bz2\n",
      "https://conda.anaconda.org/conda-forge/noarch/entrypoints-0.3-pyhd8ed1ab_1003.tar.bz2\n",
      "https://conda.anaconda.org/conda-forge/noarch/fsspec-0.8.4-py_0.tar.bz2\n",
      "https://conda.anaconda.org/conda-forge/noarch/heapdict-1.0.1-py_0.tar.bz2\n",
      "https://conda.anaconda.org/conda-forge/noarch/idna-2.10-pyh9f0ad1d_0.tar.bz2\n",
      "https://conda.anaconda.org/conda-forge/noarch/ipython_genutils-0.2.0-py_1.tar.bz2\n",
      "https://conda.anaconda.org/conda-forge/noarch/json5-0.9.5-pyh9f0ad1d_0.tar.bz2\n",
      "https://conda.anaconda.org/conda-forge/noarch/locket-0.2.0-py_2.tar.bz2\n",
      "https://conda.anaconda.org/conda-forge/noarch/nest-asyncio-1.4.3-pyhd8ed1ab_0.tar.bz2\n",
      "https://conda.anaconda.org/conda-forge/noarch/olefile-0.46-pyh9f0ad1d_1.tar.bz2\n",
      "https://conda.anaconda.org/conda-forge/noarch/pandocfilters-1.4.2-py_1.tar.bz2\n",
      "https://conda.anaconda.org/conda-forge/noarch/parso-0.7.1-pyh9f0ad1d_0.tar.bz2\n",
      "https://conda.anaconda.org/conda-forge/noarch/pickleshare-0.7.5-py_1003.tar.bz2\n",
      "https://conda.anaconda.org/conda-forge/noarch/prometheus_client-0.9.0-pyhd3deb0d_0.tar.bz2\n",
      "https://conda.anaconda.org/conda-forge/noarch/ptyprocess-0.6.0-py_1001.tar.bz2\n",
      "https://conda.anaconda.org/conda-forge/noarch/pycparser-2.20-pyh9f0ad1d_2.tar.bz2\n",
      "https://conda.anaconda.org/conda-forge/noarch/pyparsing-2.4.7-pyh9f0ad1d_0.tar.bz2\n",
      "https://conda.anaconda.org/conda-forge/linux-64/python_abi-3.8-1_cp38.tar.bz2\n",
      "https://conda.anaconda.org/conda-forge/noarch/pytz-2020.4-pyhd8ed1ab_0.tar.bz2\n",
      "https://conda.anaconda.org/conda-forge/noarch/send2trash-1.5.0-py_0.tar.bz2\n",
      "https://conda.anaconda.org/conda-forge/noarch/six-1.15.0-pyh9f0ad1d_0.tar.bz2\n",
      "https://conda.anaconda.org/conda-forge/noarch/sortedcontainers-2.3.0-pyhd8ed1ab_0.tar.bz2\n",
      "https://conda.anaconda.org/conda-forge/noarch/tblib-1.6.0-py_0.tar.bz2\n",
      "https://conda.anaconda.org/conda-forge/noarch/testpath-0.4.4-py_0.tar.bz2\n",
      "https://conda.anaconda.org/conda-forge/noarch/toolz-0.11.1-py_0.tar.bz2\n",
      "https://conda.anaconda.org/conda-forge/noarch/tqdm-4.52.0-pyhd3deb0d_0.tar.bz2\n",
      "https://conda.anaconda.org/conda-forge/noarch/typing_extensions-3.7.4.3-py_0.tar.bz2\n",
      "https://conda.anaconda.org/conda-forge/noarch/webencodings-0.5.1-py_1.tar.bz2\n",
      "https://conda.anaconda.org/conda-forge/noarch/wheel-0.35.1-pyh9f0ad1d_0.tar.bz2\n",
      "https://conda.anaconda.org/conda-forge/noarch/zipp-3.4.0-py_0.tar.bz2\n",
      "https://conda.anaconda.org/conda-forge/linux-64/certifi-2020.11.8-py38h578d9bd_0.tar.bz2\n",
      "https://conda.anaconda.org/conda-forge/linux-64/cffi-1.14.3-py38h1bdcb99_1.tar.bz2\n",
      "https://conda.anaconda.org/conda-forge/linux-64/chardet-3.0.4-py38h924ce5b_1008.tar.bz2\n",
      "https://conda.anaconda.org/conda-forge/linux-64/conda-package-handling-1.7.2-py38h8df0ef7_0.tar.bz2\n",
      "https://conda.anaconda.org/conda-forge/linux-64/cytoolz-0.11.0-py38h1e0a361_1.tar.bz2\n",
      "https://conda.anaconda.org/conda-forge/noarch/importlib-metadata-2.0.0-py_1.tar.bz2\n",
      "https://conda.anaconda.org/conda-forge/linux-64/jedi-0.17.2-py38h578d9bd_1.tar.bz2\n",
      "https://conda.anaconda.org/conda-forge/linux-64/markupsafe-1.1.1-py38h8df0ef7_2.tar.bz2\n",
      "https://conda.anaconda.org/conda-forge/linux-64/mistune-0.8.4-py38h25fe258_1002.tar.bz2\n",
      "https://conda.anaconda.org/conda-forge/linux-64/msgpack-python-1.0.0-py38hbf85e49_2.tar.bz2\n",
      "https://conda.anaconda.org/conda-forge/linux-64/numpy-1.19.4-py38hf0fd68c_1.tar.bz2\n",
      "https://conda.anaconda.org/conda-forge/noarch/packaging-20.4-pyh9f0ad1d_0.tar.bz2\n",
      "https://conda.anaconda.org/conda-forge/noarch/partd-1.1.0-py_0.tar.bz2\n",
      "https://conda.anaconda.org/conda-forge/noarch/pexpect-4.8.0-pyh9f0ad1d_2.tar.bz2\n",
      "https://conda.anaconda.org/conda-forge/linux-64/pillow-8.0.1-py38h70fbd49_0.tar.bz2\n",
      "https://conda.anaconda.org/conda-forge/linux-64/psutil-5.7.3-py38h8df0ef7_0.tar.bz2\n",
      "https://conda.anaconda.org/conda-forge/linux-64/pycosat-0.6.3-py38h8df0ef7_1005.tar.bz2\n",
      "https://conda.anaconda.org/conda-forge/linux-64/pyrsistent-0.17.3-py38h25fe258_1.tar.bz2\n",
      "https://conda.anaconda.org/conda-forge/linux-64/pysocks-1.7.1-py38h924ce5b_2.tar.bz2\n",
      "https://conda.anaconda.org/conda-forge/noarch/python-dateutil-2.8.1-py_0.tar.bz2\n",
      "https://conda.anaconda.org/conda-forge/linux-64/pyyaml-5.3.1-py38h8df0ef7_1.tar.bz2\n",
      "https://conda.anaconda.org/conda-forge/linux-64/pyzmq-20.0.0-py38h1d1b12f_1.tar.bz2\n",
      "https://conda.anaconda.org/conda-forge/linux-64/ruamel_yaml-0.15.80-py38h8df0ef7_1003.tar.bz2\n",
      "https://conda.anaconda.org/conda-forge/linux-64/tornado-6.1-py38h25fe258_0.tar.bz2\n",
      "https://conda.anaconda.org/conda-forge/noarch/traitlets-5.0.5-py_0.tar.bz2\n",
      "https://conda.anaconda.org/conda-forge/noarch/zict-2.0.0-py_0.tar.bz2\n",
      "https://conda.anaconda.org/conda-forge/linux-64/argon2-cffi-20.1.0-py38h25fe258_2.tar.bz2\n",
      "https://conda.anaconda.org/conda-forge/linux-64/brotlipy-0.7.0-py38h8df0ef7_1001.tar.bz2\n",
      "https://conda.anaconda.org/conda-forge/linux-64/cryptography-3.2.1-py38h7699a38_0.tar.bz2\n",
      "https://conda.anaconda.org/conda-forge/noarch/dask-core-2.30.0-py_0.tar.bz2\n",
      "https://conda.anaconda.org/conda-forge/noarch/importlib_metadata-2.0.0-1.tar.bz2\n",
      "https://conda.anaconda.org/conda-forge/linux-64/jupyter_core-4.6.3-py38h578d9bd_2.tar.bz2\n",
      "https://conda.anaconda.org/conda-forge/linux-64/pandas-1.1.4-py38h0ef3d22_0.tar.bz2\n",
      "https://conda.anaconda.org/conda-forge/linux-64/pynacl-1.4.0-py38h1e0a361_2.tar.bz2\n",
      "https://conda.anaconda.org/conda-forge/linux-64/setuptools-49.6.0-py38h924ce5b_2.tar.bz2\n",
      "https://conda.anaconda.org/conda-forge/linux-64/terminado-0.9.1-py38h32f6830_1.tar.bz2\n",
      "https://conda.anaconda.org/conda-forge/noarch/backports.functools_lru_cache-1.6.1-py_0.tar.bz2\n",
      "https://conda.anaconda.org/conda-forge/noarch/bleach-3.2.1-pyh9f0ad1d_0.tar.bz2\n",
      "https://conda.anaconda.org/conda-forge/linux-64/distributed-2.30.1-py38h578d9bd_0.tar.bz2\n",
      "https://conda.anaconda.org/conda-forge/noarch/jinja2-2.11.2-pyh9f0ad1d_0.tar.bz2\n",
      "https://conda.anaconda.org/conda-forge/noarch/jsonschema-3.2.0-py_2.tar.bz2\n",
      "https://conda.anaconda.org/conda-forge/noarch/jupyter_client-6.1.7-py_0.tar.bz2\n",
      "https://conda.anaconda.org/conda-forge/noarch/pip-20.2.4-py_0.tar.bz2\n",
      "https://conda.anaconda.org/conda-forge/noarch/pygments-2.7.2-py_0.tar.bz2\n",
      "https://conda.anaconda.org/conda-forge/noarch/pyopenssl-19.1.0-py_1.tar.bz2\n",
      "https://conda.anaconda.org/conda-forge/linux-64/bcrypt-3.2.0-py38h1e0a361_1.tar.bz2\n",
      "https://conda.anaconda.org/conda-forge/linux-64/bokeh-2.2.3-py38h32f6830_0.tar.bz2\n",
      "https://conda.anaconda.org/conda-forge/noarch/dask-jobqueue-0.7.1-py_0.tar.bz2\n",
      "https://conda.anaconda.org/conda-forge/noarch/jupyterlab_pygments-0.1.2-pyh9f0ad1d_0.tar.bz2\n",
      "https://conda.anaconda.org/conda-forge/noarch/nbformat-5.0.8-py_0.tar.bz2\n",
      "https://conda.anaconda.org/conda-forge/noarch/urllib3-1.25.11-py_0.tar.bz2\n",
      "https://conda.anaconda.org/conda-forge/noarch/wcwidth-0.2.5-pyh9f0ad1d_2.tar.bz2\n",
      "https://conda.anaconda.org/conda-forge/noarch/dask-2.30.0-py_0.tar.bz2\n",
      "https://conda.anaconda.org/conda-forge/noarch/nbclient-0.5.1-py_0.tar.bz2\n",
      "https://conda.anaconda.org/conda-forge/noarch/paramiko-2.7.2-pyh9f0ad1d_0.tar.bz2\n",
      "https://conda.anaconda.org/conda-forge/noarch/prompt-toolkit-3.0.8-pyha770c72_0.tar.bz2\n",
      "https://conda.anaconda.org/conda-forge/noarch/requests-2.25.0-pyhd3deb0d_0.tar.bz2\n",
      "https://conda.anaconda.org/conda-forge/linux-64/conda-4.9.2-py38h578d9bd_0.tar.bz2\n",
      "https://conda.anaconda.org/conda-forge/linux-64/ipython-7.19.0-py38h81c977d_0.tar.bz2\n",
      "https://conda.anaconda.org/conda-forge/linux-64/nbconvert-6.0.7-py38h578d9bd_3.tar.bz2\n",
      "https://conda.anaconda.org/conda-forge/linux-64/ipykernel-5.3.4-py38h81c977d_1.tar.bz2\n",
      "https://conda.anaconda.org/conda-forge/linux-64/notebook-6.1.5-py38h578d9bd_0.tar.bz2\n",
      "https://conda.anaconda.org/conda-forge/noarch/jupyterlab_server-1.2.0-py_0.tar.bz2\n",
      "https://conda.anaconda.org/conda-forge/noarch/jupyterlab-2.2.9-py_0.tar.bz2\n"
     ]
    }
   ],
   "source": [
    "!conda list --explicit"
   ]
  }
 ],
 "metadata": {
  "kernelspec": {
   "display_name": "Python 3",
   "language": "python",
   "name": "python3"
  },
  "language_info": {
   "codemirror_mode": {
    "name": "ipython",
    "version": 3
   },
   "file_extension": ".py",
   "mimetype": "text/x-python",
   "name": "python",
   "nbconvert_exporter": "python",
   "pygments_lexer": "ipython3",
   "version": "3.8.6"
  }
 },
 "nbformat": 4,
 "nbformat_minor": 4
}
