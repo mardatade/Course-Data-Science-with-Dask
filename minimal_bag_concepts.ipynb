{
 "cells": [
  {
   "cell_type": "markdown",
   "metadata": {},
   "source": [
    "# Minimal example for dask.bag\n",
    "\n",
    "We'll learn about the concept of the Python bultins\n",
    "- `map`, which applies a function to each member of a sequence / an iterable, and about\n",
    "- `filter` which filters all elements that do not meet a criterion (encoded in a function).\n",
    "\n",
    "Then, we'll see that Dask provides a class for simple list-like collections, which provide, among others, methods `.map()` and `.filter()` that follow the builtin behaviour very closely."
   ]
  },
  {
   "cell_type": "markdown",
   "metadata": {},
   "source": [
    "## A function to apply to each member of a sequence"
   ]
  },
  {
   "cell_type": "code",
   "execution_count": null,
   "metadata": {},
   "outputs": [],
   "source": [
    "def inc(x):\n",
    "    return x + 1\n",
    "\n",
    "assert inc(7) == 8"
   ]
  },
  {
   "cell_type": "code",
   "execution_count": null,
   "metadata": {},
   "outputs": [],
   "source": [
    "many_values_of_x = list(range(9))\n",
    "\n",
    "display(many_values_of_x)"
   ]
  },
  {
   "cell_type": "markdown",
   "metadata": {},
   "source": [
    "## Map the function to a sequence of values"
   ]
  },
  {
   "cell_type": "code",
   "execution_count": null,
   "metadata": {},
   "outputs": [],
   "source": [
    "many_incremented_values_of_x = map(inc, many_values_of_x)\n",
    "\n",
    "display(list(many_incremented_values_of_x))"
   ]
  },
  {
   "cell_type": "markdown",
   "metadata": {},
   "source": [
    "So this has incremented each of the values in the list."
   ]
  },
  {
   "cell_type": "markdown",
   "metadata": {},
   "source": [
    "## A function we can use to define a filter\n",
    "\n",
    "(Check if something is an even number.)"
   ]
  },
  {
   "cell_type": "code",
   "execution_count": null,
   "metadata": {},
   "outputs": [],
   "source": [
    "def iseven(x):\n",
    "    return x % 2 == 0\n",
    "\n",
    "\n",
    "# This is a unit test:\n",
    "assert iseven(23) == False\n",
    "assert iseven(20) == True"
   ]
  },
  {
   "cell_type": "markdown",
   "metadata": {},
   "source": [
    "## Apply the filter to the sequence"
   ]
  },
  {
   "cell_type": "code",
   "execution_count": null,
   "metadata": {},
   "outputs": [],
   "source": [
    "only_even_values_of_x = filter(iseven, many_values_of_x)\n",
    "\n",
    "display(list(only_even_values_of_x))"
   ]
  },
  {
   "cell_type": "markdown",
   "metadata": {},
   "source": [
    "So we only retain the even values."
   ]
  },
  {
   "cell_type": "markdown",
   "metadata": {},
   "source": [
    "## And a reduction\n",
    "\n",
    "`sum()` _reduces_ the sequence of numbers to a single value."
   ]
  },
  {
   "cell_type": "code",
   "execution_count": null,
   "metadata": {},
   "outputs": [],
   "source": [
    "display(sum(filter(iseven, map(inc, many_values_of_x))))"
   ]
  },
  {
   "cell_type": "markdown",
   "metadata": {},
   "source": [
    "## Now with a Dask.bag"
   ]
  },
  {
   "cell_type": "code",
   "execution_count": null,
   "metadata": {},
   "outputs": [],
   "source": [
    "from dask import bag as db"
   ]
  },
  {
   "cell_type": "code",
   "execution_count": null,
   "metadata": {},
   "outputs": [],
   "source": [
    "many_values_of_x = db.from_sequence(\n",
    "    many_values_of_x,\n",
    "    npartitions=3\n",
    ")\n",
    "\n",
    "display(many_values_of_x)"
   ]
  },
  {
   "cell_type": "code",
   "execution_count": null,
   "metadata": {},
   "outputs": [],
   "source": [
    "some_result = many_values_of_x.map(inc).filter(iseven).sum()\n",
    "some_result"
   ]
  },
  {
   "cell_type": "code",
   "execution_count": null,
   "metadata": {},
   "outputs": [],
   "source": [
    "some_result.visualize()"
   ]
  }
 ],
 "metadata": {
  "kernelspec": {
   "display_name": "Python 3",
   "language": "python",
   "name": "python3"
  },
  "language_info": {
   "codemirror_mode": {
    "name": "ipython",
    "version": 3
   },
   "file_extension": ".py",
   "mimetype": "text/x-python",
   "name": "python",
   "nbconvert_exporter": "python",
   "pygments_lexer": "ipython3",
   "version": "3.8.6"
  }
 },
 "nbformat": 4,
 "nbformat_minor": 4
}
