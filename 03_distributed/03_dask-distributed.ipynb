{
 "cells": [
  {
   "cell_type": "markdown",
   "metadata": {},
   "source": [
    "# Distributed trask graph execution\n",
    "First, again on a single local machine. Then, distributing Dask scheduler and workers."
   ]
  },
  {
   "cell_type": "code",
   "execution_count": 1,
   "metadata": {},
   "outputs": [],
   "source": [
    "from pi_workload import define_pi_workload"
   ]
  },
  {
   "cell_type": "markdown",
   "metadata": {},
   "source": [
    "Note, we only need to import the Dask distributed package,"
   ]
  },
  {
   "cell_type": "code",
   "execution_count": 2,
   "metadata": {},
   "outputs": [],
   "source": [
    "import dask.distributed"
   ]
  },
  {
   "cell_type": "markdown",
   "metadata": {},
   "source": [
    "And specify a worker,"
   ]
  },
  {
   "cell_type": "code",
   "execution_count": 3,
   "metadata": {},
   "outputs": [],
   "source": [
    "client = dask.distributed.Client(n_workers=1)"
   ]
  },
  {
   "cell_type": "code",
   "execution_count": 4,
   "metadata": {},
   "outputs": [
    {
     "data": {
      "text/html": [
       "<table style=\"border: 2px solid white;\">\n",
       "<tr>\n",
       "<td style=\"vertical-align: top; border: 0px solid white\">\n",
       "<h3 style=\"text-align: left;\">Client</h3>\n",
       "<ul style=\"text-align: left; list-style: none; margin: 0; padding: 0;\">\n",
       "  <li><b>Scheduler: </b>tcp://127.0.0.1:42161</li>\n",
       "  <li><b>Dashboard: </b><a href='http://127.0.0.1:8787/status' target='_blank'>http://127.0.0.1:8787/status</a></li>\n",
       "</ul>\n",
       "</td>\n",
       "<td style=\"vertical-align: top; border: 0px solid white\">\n",
       "<h3 style=\"text-align: left;\">Cluster</h3>\n",
       "<ul style=\"text-align: left; list-style:none; margin: 0; padding: 0;\">\n",
       "  <li><b>Workers: </b>1</li>\n",
       "  <li><b>Cores: </b>16</li>\n",
       "  <li><b>Memory: </b>135.09 GB</li>\n",
       "</ul>\n",
       "</td>\n",
       "</tr>\n",
       "</table>"
      ],
      "text/plain": [
       "<Client: 'tcp://127.0.0.1:42161' processes=1 threads=16, memory=135.09 GB>"
      ]
     },
     "execution_count": 4,
     "metadata": {},
     "output_type": "execute_result"
    }
   ],
   "source": [
    "client"
   ]
  },
  {
   "cell_type": "markdown",
   "metadata": {},
   "source": [
    "The other code is basically identical,"
   ]
  },
  {
   "cell_type": "code",
   "execution_count": 5,
   "metadata": {},
   "outputs": [],
   "source": [
    "import time, numpy"
   ]
  },
  {
   "cell_type": "code",
   "execution_count": 7,
   "metadata": {},
   "outputs": [
    {
     "name": "stdout",
     "output_type": "stream",
     "text": [
      "workload in giga bytes: 250.0\n",
      "500.0 chunks to process\n",
      "pi computed:    3.141582139648\n",
      "pi from numpy:  3.141592653589793\n",
      "wall time:  67.92618155479431 sec\n"
     ]
    }
   ],
   "source": [
    "start = time.time()\n",
    "pi = define_pi_workload().compute()\n",
    "elapse = time.time() - start\n",
    "\n",
    "print('pi computed:   ', pi)\n",
    "print('pi from numpy: ', numpy.pi)\n",
    "print('wall time: ', elapse, 'sec')"
   ]
  },
  {
   "cell_type": "markdown",
   "metadata": {},
   "source": [
    "Note, that task graph execution was still local here, as we didn't specify a distributed setup of Dask workers!"
   ]
  },
  {
   "cell_type": "markdown",
   "metadata": {},
   "source": [
    "## Really going distributed..."
   ]
  },
  {
   "cell_type": "markdown",
   "metadata": {},
   "source": [
    "There are only two ingredients for this to work properly: The first, each machine needs to have local access to a Dask software environment. The second, the machines need to be able to communicate with each other. (If these kind of examples don't work on your machines, a likely reason is that necessary ports are blocked. In this case, your admins might be able to help.)"
   ]
  },
  {
   "cell_type": "markdown",
   "metadata": {},
   "source": [
    "This is how it looks like on our example machines,"
   ]
  },
  {
   "cell_type": "code",
   "execution_count": 8,
   "metadata": {},
   "outputs": [
    {
     "name": "stdout",
     "output_type": "stream",
     "text": [
      "\n",
      "Thursday, 19 November 2020, 16:00\n",
      "\n",
      "                      |               |           load_averages |         |\n",
      "                 host |   used_memory |      1min   5min  15min |   users |\n",
      "----------------------+---------------+-------------------------+---------+--------------\n",
      "              scalc01 |         29.3% |      0.12   0.20   0.32 |       4 | #\n",
      "              scalc02 |          0.5% |      0.00   0.01   0.00 |       1 | #\n",
      "              scalc03 |          0.5% |      0.04   0.01   0.00 |       0 | #\n",
      "              scalc04 |          0.5% |      0.02   0.02   0.00 |       0 | #\n",
      "              scalc05 |          0.5% |      0.01   0.02   0.00 |       0 | #\n",
      "              scalc06 |          0.5% |      0.07   0.06   0.01 |       0 | #\n",
      "              scalc07 |          0.5% |      0.00   0.00   0.00 |       0 | #\n",
      "              scalc08 |          0.5% |      0.00   0.01   0.00 |       0 | #\n",
      "              scalc09 |          0.5% |      0.00   0.00   0.00 |       0 | #\n",
      "              scalc10 |          0.5% |      0.00   0.01   0.00 |       0 | #\n",
      "              scalc11 |          0.7% |      0.19   0.08   0.01 |       1 | #\n",
      "              scalc12 |          0.6% |      0.03   0.05   0.01 |       1 | #\n",
      "              scalc13 |          0.5% |      0.03   0.03   0.00 |       0 | #\n",
      "              scalc14 |          0.5% |      0.00   0.00   0.00 |       0 | #\n",
      "              scalc15 |          1.1% |      0.27   2.48   2.46 |       1 | #\n",
      "   scalcg01.geomar.de |          1.4% |      0.00   0.00   0.00 |       0 | #\n",
      "   scalcg02.geomar.de |          1.5% |      0.01   0.03   0.00 |       0 | #\n",
      "   scalcg03.geomar.de |          1.4% |      0.00   0.01   0.00 |       0 | #\n",
      "     taurus.geomar.de |          3.1% |      0.06   0.03   0.05 |       0 | #\n",
      "     ursus7.geomar.de |          3.7% |      0.09   0.08   0.12 |       3 | #\n",
      "\n",
      "Please file any issues here:\n",
      "https://git.geomar.de/scientific_computing_infrastructure/docs/\n"
     ]
    }
   ],
   "source": [
    "!curl scalcmon.geomar.de"
   ]
  },
  {
   "cell_type": "markdown",
   "metadata": {},
   "source": [
    "### Create a Dask scheduler process on a second machine\n",
    "First, we need to setup a Dask scheduler process which needs to be visible by the local machine with the Dask client process. This will only setup the scheduler, without any actual Dask workers."
   ]
  },
  {
   "cell_type": "code",
   "execution_count": 9,
   "metadata": {},
   "outputs": [
    {
     "name": "stdout",
     "output_type": "stream",
     "text": [
      "scalc15\n"
     ]
    }
   ],
   "source": [
    "!hostname # this is where we are!"
   ]
  },
  {
   "cell_type": "markdown",
   "metadata": {},
   "source": [
    "In a Jupyter terminal open the Dask scheduler on a remote machine with e.g. SSH,"
   ]
  },
  {
   "cell_type": "markdown",
   "metadata": {},
   "source": [
    "\n",
    "```bash\n",
    "$ ssh khoeflich@scalc03.geomar.de \\\n",
    "source $HOME/Course-Data-Science-with-Dask/03_distributed/conda.sh && \\\n",
    "dask-scheduler\n",
    "```\n"
   ]
  },
  {
   "cell_type": "markdown",
   "metadata": {},
   "source": [
    "### Connect the scheduler with the Dask client process on the local machine\n",
    "Just copying/pasting from the `dask-scheduler` standard output in the terminal,"
   ]
  },
  {
   "cell_type": "code",
   "execution_count": 12,
   "metadata": {},
   "outputs": [],
   "source": [
    "client = dask.distributed.Client('tcp://10.199.124.115:8786')"
   ]
  },
  {
   "cell_type": "code",
   "execution_count": 13,
   "metadata": {},
   "outputs": [
    {
     "data": {
      "text/html": [
       "<table style=\"border: 2px solid white;\">\n",
       "<tr>\n",
       "<td style=\"vertical-align: top; border: 0px solid white\">\n",
       "<h3 style=\"text-align: left;\">Client</h3>\n",
       "<ul style=\"text-align: left; list-style: none; margin: 0; padding: 0;\">\n",
       "  <li><b>Scheduler: </b>tcp://10.199.124.115:8786</li>\n",
       "  <li><b>Dashboard: </b><a href='http://10.199.124.115:8787/status' target='_blank'>http://10.199.124.115:8787/status</a></li>\n",
       "</ul>\n",
       "</td>\n",
       "<td style=\"vertical-align: top; border: 0px solid white\">\n",
       "<h3 style=\"text-align: left;\">Cluster</h3>\n",
       "<ul style=\"text-align: left; list-style:none; margin: 0; padding: 0;\">\n",
       "  <li><b>Workers: </b>0</li>\n",
       "  <li><b>Cores: </b>0</li>\n",
       "  <li><b>Memory: </b>0 B</li>\n",
       "</ul>\n",
       "</td>\n",
       "</tr>\n",
       "</table>"
      ],
      "text/plain": [
       "<Client: 'tcp://10.199.124.115:8786' processes=0 threads=0, memory=0 B>"
      ]
     },
     "execution_count": 13,
     "metadata": {},
     "output_type": "execute_result"
    }
   ],
   "source": [
    "client"
   ]
  },
  {
   "cell_type": "markdown",
   "metadata": {},
   "source": [
    "### Create a Dask worker on a third machine\n",
    "To be able to execute task graphs, we need at least one of these. Note, that we have to tell the `dask-worker` where exactly the `dask-scheduler` process is located in the network,"
   ]
  },
  {
   "cell_type": "markdown",
   "metadata": {},
   "source": [
    "```bash\n",
    "$ ssh khoeflich@scalc08.geomar.de \\\n",
    "source $HOME/Course-Data-Science-with-Dask/03_distributed/conda.sh && \\\n",
    "dask-worker 10.199.124.115:8786\n",
    "```"
   ]
  },
  {
   "cell_type": "markdown",
   "metadata": {},
   "source": [
    "Now, the client already displays that a worker is connected to the scheduler and hence to the cluster,"
   ]
  },
  {
   "cell_type": "code",
   "execution_count": 14,
   "metadata": {},
   "outputs": [
    {
     "data": {
      "text/html": [
       "<table style=\"border: 2px solid white;\">\n",
       "<tr>\n",
       "<td style=\"vertical-align: top; border: 0px solid white\">\n",
       "<h3 style=\"text-align: left;\">Client</h3>\n",
       "<ul style=\"text-align: left; list-style: none; margin: 0; padding: 0;\">\n",
       "  <li><b>Scheduler: </b>tcp://10.199.124.115:8786</li>\n",
       "  <li><b>Dashboard: </b><a href='http://10.199.124.115:8787/status' target='_blank'>http://10.199.124.115:8787/status</a></li>\n",
       "</ul>\n",
       "</td>\n",
       "<td style=\"vertical-align: top; border: 0px solid white\">\n",
       "<h3 style=\"text-align: left;\">Cluster</h3>\n",
       "<ul style=\"text-align: left; list-style:none; margin: 0; padding: 0;\">\n",
       "  <li><b>Workers: </b>1</li>\n",
       "  <li><b>Cores: </b>16</li>\n",
       "  <li><b>Memory: </b>135.09 GB</li>\n",
       "</ul>\n",
       "</td>\n",
       "</tr>\n",
       "</table>"
      ],
      "text/plain": [
       "<Client: 'tcp://10.199.124.115:8786' processes=1 threads=16, memory=135.09 GB>"
      ]
     },
     "execution_count": 14,
     "metadata": {},
     "output_type": "execute_result"
    }
   ],
   "source": [
    "client"
   ]
  },
  {
   "cell_type": "markdown",
   "metadata": {},
   "source": [
    "And we can repeat the workload from above, but on a scaled out / distributed cluster."
   ]
  },
  {
   "cell_type": "code",
   "execution_count": 18,
   "metadata": {},
   "outputs": [
    {
     "name": "stdout",
     "output_type": "stream",
     "text": [
      "workload in giga bytes: 250.0\n",
      "500.0 chunks to process\n",
      "pi computed:    3.141618020096\n",
      "pi from numpy:  3.141592653589793\n",
      "wall time:  66.5627076625824 sec\n"
     ]
    }
   ],
   "source": [
    "start = time.time()\n",
    "pi = define_pi_workload().compute()\n",
    "elapse = time.time() - start\n",
    "\n",
    "print('pi computed:   ', pi)\n",
    "print('pi from numpy: ', numpy.pi)\n",
    "print('wall time: ', elapse, 'sec')"
   ]
  },
  {
   "cell_type": "markdown",
   "metadata": {},
   "source": [
    "### Of course, we could add further Dask workers manually..."
   ]
  },
  {
   "cell_type": "markdown",
   "metadata": {},
   "source": [
    "But doing this would be rather tedious. Luckily, Dask is relatively mature and provides a whole collection of ready-to-use and high-level \"cluster managers\" that spawn the network of a Dask scheduler and the Dask workers for you. Here, we could use the `Dask.distributed.SSHCluster()` interface or the `dask-ssh` command-line tool. (For an incomplete list of much more sophisticated Dask deployment options, see the slides!)"
   ]
  },
  {
   "cell_type": "markdown",
   "metadata": {},
   "source": [
    "## Using a cluster manager interface\n",
    "\n",
    "We could scale out a Dask cluster with `dask-ssh scalc{06..09}.geomar.de` in the terminal again, but let's have a look at how cluster management from within Jupyter notebook works. (The logic is very similar for many other Dask cluster deployment tools/options! And migration of a Dask task graph calculation to another type of machine only requires setting up and connecting to another than the example cluster object. The task graph execution code will always stay as it is.)"
   ]
  },
  {
   "cell_type": "code",
   "execution_count": 19,
   "metadata": {},
   "outputs": [
    {
     "name": "stderr",
     "output_type": "stream",
     "text": [
      "distributed.deploy.ssh - INFO - distributed.scheduler - INFO - -----------------------------------------------\n",
      "distributed.deploy.ssh - INFO - distributed.http.proxy - INFO - To route to workers diagnostics web server please install jupyter-server-proxy: python -m pip install jupyter-server-proxy\n",
      "distributed.deploy.ssh - INFO - distributed.scheduler - INFO - -----------------------------------------------\n",
      "distributed.deploy.ssh - INFO - distributed.scheduler - INFO - Clear task state\n",
      "distributed.deploy.ssh - INFO - distributed.scheduler - INFO -   Scheduler at: tcp://10.199.124.105:8786\n",
      "distributed.deploy.ssh - INFO - distributed.nanny - INFO -         Start Nanny at: 'tcp://10.199.124.108:38787'\n",
      "distributed.deploy.ssh - INFO - distributed.nanny - INFO -         Start Nanny at: 'tcp://10.199.124.106:40993'\n",
      "distributed.deploy.ssh - INFO - distributed.nanny - INFO -         Start Nanny at: 'tcp://10.199.124.109:42719'\n",
      "distributed.deploy.ssh - INFO - distributed.nanny - INFO -         Start Nanny at: 'tcp://10.199.124.107:34763'\n",
      "distributed.deploy.ssh - INFO - distributed.diskutils - INFO - Found stale lock file and directory '/home/khoeflich/dask-worker-space/dask-worker-space/worker-gl9tixsf', purging\n",
      "distributed.deploy.ssh - INFO - distributed.diskutils - INFO - Found stale lock file and directory '/home/khoeflich/dask-worker-space/dask-worker-space/worker-l8oxwovi', purging\n",
      "distributed.deploy.ssh - INFO - distributed.diskutils - INFO - Found stale lock file and directory '/home/khoeflich/dask-worker-space/dask-worker-space/worker-hneaee7f', purging\n",
      "distributed.deploy.ssh - INFO - distributed.diskutils - INFO - Found stale lock file and directory '/home/khoeflich/dask-worker-space/dask-worker-space/worker-0mhy25yl', purging\n",
      "distributed.deploy.ssh - INFO - distributed.worker - INFO -       Start worker at: tcp://10.199.124.108:35231\n",
      "distributed.deploy.ssh - INFO - distributed.worker - INFO -       Start worker at: tcp://10.199.124.106:34705\n",
      "distributed.deploy.ssh - INFO - distributed.worker - INFO -       Start worker at: tcp://10.199.124.107:37793\n",
      "distributed.deploy.ssh - INFO - distributed.worker - INFO -       Start worker at: tcp://10.199.124.109:38009\n"
     ]
    }
   ],
   "source": [
    "ssh_cluster = dask.distributed.SSHCluster(\n",
    "    [\"scalc05.geomar.de\", # scheduler\n",
    "     \"scalc06.geomar.de\", # workers...\n",
    "     \"scalc07.geomar.de\",\n",
    "     \"scalc08.geomar.de\",\n",
    "     \"scalc09.geomar.de\",\n",
    "    ],\n",
    ")"
   ]
  },
  {
   "cell_type": "markdown",
   "metadata": {},
   "source": [
    "Now, instead of providing the Dask scheduler address manually we connect the above Dask cluster object,"
   ]
  },
  {
   "cell_type": "code",
   "execution_count": 20,
   "metadata": {},
   "outputs": [],
   "source": [
    "client = dask.distributed.Client(ssh_cluster)"
   ]
  },
  {
   "cell_type": "code",
   "execution_count": 21,
   "metadata": {},
   "outputs": [
    {
     "data": {
      "text/html": [
       "<table style=\"border: 2px solid white;\">\n",
       "<tr>\n",
       "<td style=\"vertical-align: top; border: 0px solid white\">\n",
       "<h3 style=\"text-align: left;\">Client</h3>\n",
       "<ul style=\"text-align: left; list-style: none; margin: 0; padding: 0;\">\n",
       "  <li><b>Scheduler: </b>tcp://10.199.124.105:8786</li>\n",
       "  <li><b>Dashboard: </b><a href='http://10.199.124.105:8787/status' target='_blank'>http://10.199.124.105:8787/status</a></li>\n",
       "</ul>\n",
       "</td>\n",
       "<td style=\"vertical-align: top; border: 0px solid white\">\n",
       "<h3 style=\"text-align: left;\">Cluster</h3>\n",
       "<ul style=\"text-align: left; list-style:none; margin: 0; padding: 0;\">\n",
       "  <li><b>Workers: </b>4</li>\n",
       "  <li><b>Cores: </b>64</li>\n",
       "  <li><b>Memory: </b>540.37 GB</li>\n",
       "</ul>\n",
       "</td>\n",
       "</tr>\n",
       "</table>"
      ],
      "text/plain": [
       "<Client: 'tcp://10.199.124.105:8786' processes=4 threads=64, memory=540.37 GB>"
      ]
     },
     "execution_count": 21,
     "metadata": {},
     "output_type": "execute_result"
    }
   ],
   "source": [
    "client"
   ]
  },
  {
   "cell_type": "markdown",
   "metadata": {},
   "source": [
    "And compute again,"
   ]
  },
  {
   "cell_type": "code",
   "execution_count": 23,
   "metadata": {},
   "outputs": [
    {
     "name": "stdout",
     "output_type": "stream",
     "text": [
      "workload in giga bytes: 250.0\n",
      "500.0 chunks to process\n",
      "pi computed:    3.141599005184\n",
      "pi from numpy:  3.141592653589793\n",
      "wall time:  25.776468753814697 sec\n"
     ]
    }
   ],
   "source": [
    "start = time.time()\n",
    "pi = define_pi_workload().compute()\n",
    "elapse = time.time() - start\n",
    "\n",
    "print('pi computed:   ', pi)\n",
    "print('pi from numpy: ', numpy.pi)\n",
    "print('wall time: ', elapse, 'sec')"
   ]
  },
  {
   "cell_type": "markdown",
   "metadata": {},
   "source": [
    "Note, that we have strongly reduced the task graph execution wall time here!"
   ]
  },
  {
   "cell_type": "markdown",
   "metadata": {},
   "source": [
    "Also, don't forget to close Dask clusters (to free-up machines!) after you are done,"
   ]
  },
  {
   "cell_type": "code",
   "execution_count": 24,
   "metadata": {},
   "outputs": [],
   "source": [
    "ssh_cluster.close()"
   ]
  },
  {
   "cell_type": "markdown",
   "metadata": {},
   "source": [
    "## Python environment"
   ]
  },
  {
   "cell_type": "code",
   "execution_count": 26,
   "metadata": {},
   "outputs": [
    {
     "name": "stdout",
     "output_type": "stream",
     "text": [
      "# This file may be used to create an environment using:\n",
      "# $ conda create --name <env> --file <this file>\n",
      "# platform: linux-64\n",
      "@EXPLICIT\n",
      "https://conda.anaconda.org/conda-forge/linux-64/_libgcc_mutex-0.1-conda_forge.tar.bz2\n",
      "https://conda.anaconda.org/conda-forge/linux-64/ca-certificates-2020.11.8-ha878542_0.tar.bz2\n",
      "https://conda.anaconda.org/conda-forge/linux-64/ld_impl_linux-64-2.35.1-hed1e6ac_0.tar.bz2\n",
      "https://conda.anaconda.org/conda-forge/linux-64/libgfortran5-9.3.0-he4bcb1c_17.tar.bz2\n",
      "https://conda.anaconda.org/conda-forge/linux-64/libstdcxx-ng-9.3.0-h2ae2ef3_17.tar.bz2\n",
      "https://conda.anaconda.org/conda-forge/linux-64/pandoc-2.11.1.1-h36c2ea0_0.tar.bz2\n",
      "https://conda.anaconda.org/conda-forge/linux-64/libgfortran-ng-9.3.0-he4bcb1c_17.tar.bz2\n",
      "https://conda.anaconda.org/conda-forge/linux-64/libgomp-9.3.0-h5dbcf3e_17.tar.bz2\n",
      "https://conda.anaconda.org/conda-forge/linux-64/_openmp_mutex-4.5-1_gnu.tar.bz2\n",
      "https://conda.anaconda.org/conda-forge/linux-64/libgcc-ng-9.3.0-h5dbcf3e_17.tar.bz2\n",
      "https://conda.anaconda.org/conda-forge/linux-64/expat-2.2.9-he1b5a44_2.tar.bz2\n",
      "https://conda.anaconda.org/conda-forge/linux-64/fribidi-1.0.10-h36c2ea0_0.tar.bz2\n",
      "https://conda.anaconda.org/conda-forge/linux-64/graphite2-1.3.13-h58526e2_1001.tar.bz2\n",
      "https://conda.anaconda.org/conda-forge/linux-64/icu-67.1-he1b5a44_0.tar.bz2\n",
      "https://conda.anaconda.org/conda-forge/linux-64/jpeg-9d-h36c2ea0_0.tar.bz2\n",
      "https://conda.anaconda.org/conda-forge/linux-64/libffi-3.2.1-he1b5a44_1007.tar.bz2\n",
      "https://conda.anaconda.org/conda-forge/linux-64/libiconv-1.16-h516909a_0.tar.bz2\n",
      "https://conda.anaconda.org/conda-forge/linux-64/libopenblas-0.3.12-pthreads_h4812303_1.tar.bz2\n",
      "https://conda.anaconda.org/conda-forge/linux-64/libsodium-1.0.18-h36c2ea0_1.tar.bz2\n",
      "https://conda.anaconda.org/conda-forge/linux-64/libtool-2.4.6-h58526e2_1007.tar.bz2\n",
      "https://conda.anaconda.org/conda-forge/linux-64/libuuid-2.32.1-h14c3975_1000.tar.bz2\n",
      "https://conda.anaconda.org/conda-forge/linux-64/libwebp-base-1.1.0-h36c2ea0_3.tar.bz2\n",
      "https://conda.anaconda.org/conda-forge/linux-64/lz4-c-1.9.2-he1b5a44_3.tar.bz2\n",
      "https://conda.anaconda.org/conda-forge/linux-64/ncurses-6.2-h58526e2_4.tar.bz2\n",
      "https://conda.anaconda.org/conda-forge/linux-64/openssl-1.1.1h-h516909a_0.tar.bz2\n",
      "https://conda.anaconda.org/conda-forge/linux-64/pcre-8.44-he1b5a44_0.tar.bz2\n",
      "https://conda.anaconda.org/conda-forge/linux-64/pixman-0.40.0-h36c2ea0_0.tar.bz2\n",
      "https://conda.anaconda.org/conda-forge/linux-64/pthread-stubs-0.4-h14c3975_1001.tar.bz2\n",
      "https://conda.anaconda.org/conda-forge/linux-64/xorg-kbproto-1.0.7-h14c3975_1002.tar.bz2\n",
      "https://conda.anaconda.org/conda-forge/linux-64/xorg-libice-1.0.10-h516909a_0.tar.bz2\n",
      "https://conda.anaconda.org/conda-forge/linux-64/xorg-libxau-1.0.9-h14c3975_0.tar.bz2\n",
      "https://conda.anaconda.org/conda-forge/linux-64/xorg-libxdmcp-1.1.3-h516909a_0.tar.bz2\n",
      "https://conda.anaconda.org/conda-forge/linux-64/xorg-renderproto-0.11.1-h14c3975_1002.tar.bz2\n",
      "https://conda.anaconda.org/conda-forge/linux-64/xorg-xextproto-7.3.0-h14c3975_1002.tar.bz2\n",
      "https://conda.anaconda.org/conda-forge/linux-64/xorg-xproto-7.0.31-h14c3975_1007.tar.bz2\n",
      "https://conda.anaconda.org/conda-forge/linux-64/xz-5.2.5-h516909a_1.tar.bz2\n",
      "https://conda.anaconda.org/conda-forge/linux-64/yaml-0.2.5-h516909a_0.tar.bz2\n",
      "https://conda.anaconda.org/conda-forge/linux-64/zlib-1.2.11-h516909a_1010.tar.bz2\n",
      "https://conda.anaconda.org/conda-forge/linux-64/gettext-0.19.8.1-hf34092f_1004.tar.bz2\n",
      "https://conda.anaconda.org/conda-forge/linux-64/libblas-3.9.0-3_openblas.tar.bz2\n",
      "https://conda.anaconda.org/conda-forge/linux-64/libpng-1.6.37-h21135ba_2.tar.bz2\n",
      "https://conda.anaconda.org/conda-forge/linux-64/libxcb-1.13-h14c3975_1002.tar.bz2\n",
      "https://conda.anaconda.org/conda-forge/linux-64/libxml2-2.9.10-h68273f3_2.tar.bz2\n",
      "https://conda.anaconda.org/conda-forge/linux-64/readline-8.0-he28a2e2_2.tar.bz2\n",
      "https://conda.anaconda.org/conda-forge/linux-64/tk-8.6.10-hed695b0_1.tar.bz2\n",
      "https://conda.anaconda.org/conda-forge/linux-64/xorg-libsm-1.2.3-h84519dc_1000.tar.bz2\n",
      "https://conda.anaconda.org/conda-forge/linux-64/zeromq-4.3.3-h58526e2_2.tar.bz2\n",
      "https://conda.anaconda.org/conda-forge/linux-64/zstd-1.4.5-h6597ccf_2.tar.bz2\n",
      "https://conda.anaconda.org/conda-forge/linux-64/freetype-2.10.4-h7ca028e_0.tar.bz2\n",
      "https://conda.anaconda.org/conda-forge/linux-64/libcblas-3.9.0-3_openblas.tar.bz2\n",
      "https://conda.anaconda.org/conda-forge/linux-64/libglib-2.66.2-hbe7bbb4_0.tar.bz2\n",
      "https://conda.anaconda.org/conda-forge/linux-64/liblapack-3.9.0-3_openblas.tar.bz2\n",
      "https://conda.anaconda.org/conda-forge/linux-64/libtiff-4.1.0-h4f3a223_6.tar.bz2\n",
      "https://conda.anaconda.org/conda-forge/linux-64/sqlite-3.33.0-h4cf870e_1.tar.bz2\n",
      "https://conda.anaconda.org/conda-forge/linux-64/xorg-libx11-1.6.12-h516909a_0.tar.bz2\n",
      "https://conda.anaconda.org/conda-forge/linux-64/fontconfig-2.13.1-h7e3eb15_1002.tar.bz2\n",
      "https://conda.anaconda.org/conda-forge/linux-64/lcms2-2.11-hcbb858e_1.tar.bz2\n",
      "https://conda.anaconda.org/conda-forge/linux-64/python-3.8.6-h852b56e_0_cpython.tar.bz2\n",
      "https://conda.anaconda.org/conda-forge/linux-64/xorg-libxext-1.3.4-h516909a_0.tar.bz2\n",
      "https://conda.anaconda.org/conda-forge/linux-64/xorg-libxrender-0.9.10-h516909a_1002.tar.bz2\n",
      "https://conda.anaconda.org/conda-forge/linux-64/xorg-libxt-1.1.5-h516909a_1003.tar.bz2\n",
      "https://conda.anaconda.org/conda-forge/noarch/async_generator-1.10-py_0.tar.bz2\n",
      "https://conda.anaconda.org/conda-forge/noarch/attrs-20.3.0-pyhd3deb0d_0.tar.bz2\n",
      "https://conda.anaconda.org/conda-forge/noarch/backcall-0.2.0-pyh9f0ad1d_0.tar.bz2\n",
      "https://conda.anaconda.org/conda-forge/noarch/backports-1.0-py_2.tar.bz2\n",
      "https://conda.anaconda.org/conda-forge/linux-64/cairo-1.16.0-h9f066cc_1006.tar.bz2\n",
      "https://conda.anaconda.org/conda-forge/noarch/click-7.1.2-pyh9f0ad1d_0.tar.bz2\n",
      "https://conda.anaconda.org/conda-forge/noarch/cloudpickle-1.6.0-py_0.tar.bz2\n",
      "https://conda.anaconda.org/conda-forge/noarch/decorator-4.4.2-py_0.tar.bz2\n",
      "https://conda.anaconda.org/conda-forge/noarch/defusedxml-0.6.0-py_0.tar.bz2\n",
      "https://conda.anaconda.org/conda-forge/noarch/entrypoints-0.3-pyhd8ed1ab_1003.tar.bz2\n",
      "https://conda.anaconda.org/conda-forge/noarch/fsspec-0.8.4-py_0.tar.bz2\n",
      "https://conda.anaconda.org/conda-forge/linux-64/glib-2.66.2-h58526e2_0.tar.bz2\n",
      "https://conda.anaconda.org/conda-forge/noarch/heapdict-1.0.1-py_0.tar.bz2\n",
      "https://conda.anaconda.org/conda-forge/noarch/idna-2.10-pyh9f0ad1d_0.tar.bz2\n",
      "https://conda.anaconda.org/conda-forge/noarch/ipython_genutils-0.2.0-py_1.tar.bz2\n",
      "https://conda.anaconda.org/conda-forge/noarch/json5-0.9.5-pyh9f0ad1d_0.tar.bz2\n",
      "https://conda.anaconda.org/conda-forge/noarch/locket-0.2.0-py_2.tar.bz2\n",
      "https://conda.anaconda.org/conda-forge/noarch/nest-asyncio-1.4.3-pyhd8ed1ab_0.tar.bz2\n",
      "https://conda.anaconda.org/conda-forge/noarch/olefile-0.46-pyh9f0ad1d_1.tar.bz2\n",
      "https://conda.anaconda.org/conda-forge/noarch/pandocfilters-1.4.2-py_1.tar.bz2\n",
      "https://conda.anaconda.org/conda-forge/noarch/parso-0.7.1-pyh9f0ad1d_0.tar.bz2\n",
      "https://conda.anaconda.org/conda-forge/noarch/pickleshare-0.7.5-py_1003.tar.bz2\n",
      "https://conda.anaconda.org/conda-forge/noarch/prometheus_client-0.9.0-pyhd3deb0d_0.tar.bz2\n",
      "https://conda.anaconda.org/conda-forge/noarch/ptyprocess-0.6.0-py_1001.tar.bz2\n",
      "https://conda.anaconda.org/conda-forge/noarch/pycparser-2.20-pyh9f0ad1d_2.tar.bz2\n",
      "https://conda.anaconda.org/conda-forge/noarch/pyparsing-2.4.7-pyh9f0ad1d_0.tar.bz2\n",
      "https://conda.anaconda.org/conda-forge/linux-64/python_abi-3.8-1_cp38.tar.bz2\n",
      "https://conda.anaconda.org/conda-forge/noarch/pytz-2020.4-pyhd8ed1ab_0.tar.bz2\n",
      "https://conda.anaconda.org/conda-forge/noarch/send2trash-1.5.0-py_0.tar.bz2\n",
      "https://conda.anaconda.org/conda-forge/noarch/six-1.15.0-pyh9f0ad1d_0.tar.bz2\n",
      "https://conda.anaconda.org/conda-forge/noarch/sortedcontainers-2.3.0-pyhd8ed1ab_0.tar.bz2\n",
      "https://conda.anaconda.org/conda-forge/noarch/tblib-1.6.0-py_0.tar.bz2\n",
      "https://conda.anaconda.org/conda-forge/noarch/testpath-0.4.4-py_0.tar.bz2\n",
      "https://conda.anaconda.org/conda-forge/noarch/toolz-0.11.1-py_0.tar.bz2\n",
      "https://conda.anaconda.org/conda-forge/noarch/tqdm-4.52.0-pyhd3deb0d_0.tar.bz2\n",
      "https://conda.anaconda.org/conda-forge/noarch/typing_extensions-3.7.4.3-py_0.tar.bz2\n",
      "https://conda.anaconda.org/conda-forge/noarch/webencodings-0.5.1-py_1.tar.bz2\n",
      "https://conda.anaconda.org/conda-forge/noarch/wheel-0.35.1-pyh9f0ad1d_0.tar.bz2\n",
      "https://conda.anaconda.org/conda-forge/linux-64/xorg-libxpm-3.5.13-h516909a_0.tar.bz2\n",
      "https://conda.anaconda.org/conda-forge/noarch/zipp-3.4.0-py_0.tar.bz2\n",
      "https://conda.anaconda.org/conda-forge/linux-64/certifi-2020.11.8-py38h578d9bd_0.tar.bz2\n",
      "https://conda.anaconda.org/conda-forge/linux-64/cffi-1.14.3-py38h1bdcb99_1.tar.bz2\n",
      "https://conda.anaconda.org/conda-forge/linux-64/chardet-3.0.4-py38h924ce5b_1008.tar.bz2\n",
      "https://conda.anaconda.org/conda-forge/linux-64/conda-package-handling-1.7.2-py38h8df0ef7_0.tar.bz2\n",
      "https://conda.anaconda.org/conda-forge/linux-64/cytoolz-0.11.0-py38h1e0a361_1.tar.bz2\n",
      "https://conda.anaconda.org/conda-forge/linux-64/harfbuzz-2.7.2-ha5b49bf_1.tar.bz2\n",
      "https://conda.anaconda.org/conda-forge/noarch/importlib-metadata-2.0.0-py_1.tar.bz2\n",
      "https://conda.anaconda.org/conda-forge/linux-64/jedi-0.17.2-py38h578d9bd_1.tar.bz2\n",
      "https://conda.anaconda.org/conda-forge/linux-64/markupsafe-1.1.1-py38h8df0ef7_2.tar.bz2\n",
      "https://conda.anaconda.org/conda-forge/linux-64/mistune-0.8.4-py38h25fe258_1002.tar.bz2\n",
      "https://conda.anaconda.org/conda-forge/linux-64/msgpack-python-1.0.0-py38hbf85e49_2.tar.bz2\n",
      "https://conda.anaconda.org/conda-forge/linux-64/numpy-1.19.4-py38hf0fd68c_1.tar.bz2\n",
      "https://conda.anaconda.org/conda-forge/noarch/packaging-20.4-pyh9f0ad1d_0.tar.bz2\n",
      "https://conda.anaconda.org/conda-forge/noarch/partd-1.1.0-py_0.tar.bz2\n",
      "https://conda.anaconda.org/conda-forge/noarch/pexpect-4.8.0-pyh9f0ad1d_2.tar.bz2\n",
      "https://conda.anaconda.org/conda-forge/linux-64/pillow-8.0.1-py38h70fbd49_0.tar.bz2\n",
      "https://conda.anaconda.org/conda-forge/linux-64/psutil-5.7.3-py38h8df0ef7_0.tar.bz2\n",
      "https://conda.anaconda.org/conda-forge/linux-64/pycosat-0.6.3-py38h8df0ef7_1005.tar.bz2\n",
      "https://conda.anaconda.org/conda-forge/linux-64/pyrsistent-0.17.3-py38h25fe258_1.tar.bz2\n",
      "https://conda.anaconda.org/conda-forge/linux-64/pysocks-1.7.1-py38h924ce5b_2.tar.bz2\n",
      "https://conda.anaconda.org/conda-forge/noarch/python-dateutil-2.8.1-py_0.tar.bz2\n",
      "https://conda.anaconda.org/conda-forge/linux-64/pyyaml-5.3.1-py38h8df0ef7_1.tar.bz2\n",
      "https://conda.anaconda.org/conda-forge/linux-64/pyzmq-20.0.0-py38h1d1b12f_1.tar.bz2\n",
      "https://conda.anaconda.org/conda-forge/linux-64/ruamel_yaml-0.15.80-py38h8df0ef7_1003.tar.bz2\n",
      "https://conda.anaconda.org/conda-forge/linux-64/tornado-6.1-py38h25fe258_0.tar.bz2\n",
      "https://conda.anaconda.org/conda-forge/noarch/traitlets-5.0.5-py_0.tar.bz2\n",
      "https://conda.anaconda.org/conda-forge/noarch/zict-2.0.0-py_0.tar.bz2\n",
      "https://conda.anaconda.org/conda-forge/linux-64/argon2-cffi-20.1.0-py38h25fe258_2.tar.bz2\n",
      "https://conda.anaconda.org/conda-forge/linux-64/brotlipy-0.7.0-py38h8df0ef7_1001.tar.bz2\n",
      "https://conda.anaconda.org/conda-forge/linux-64/cryptography-3.2.1-py38h7699a38_0.tar.bz2\n",
      "https://conda.anaconda.org/conda-forge/noarch/dask-core-2.30.0-py_0.tar.bz2\n",
      "https://conda.anaconda.org/conda-forge/noarch/importlib_metadata-2.0.0-1.tar.bz2\n",
      "https://conda.anaconda.org/conda-forge/linux-64/jupyter_core-4.7.0-py38h578d9bd_0.tar.bz2\n",
      "https://conda.anaconda.org/conda-forge/linux-64/pandas-1.1.4-py38h0ef3d22_0.tar.bz2\n",
      "https://conda.anaconda.org/conda-forge/linux-64/pango-1.42.4-h69149e4_5.tar.bz2\n",
      "https://conda.anaconda.org/conda-forge/linux-64/pynacl-1.4.0-py38h1e0a361_2.tar.bz2\n",
      "https://conda.anaconda.org/conda-forge/linux-64/setuptools-49.6.0-py38h924ce5b_2.tar.bz2\n",
      "https://conda.anaconda.org/conda-forge/linux-64/terminado-0.9.1-py38h32f6830_1.tar.bz2\n",
      "https://conda.anaconda.org/conda-forge/noarch/asyncssh-2.4.1-py_0.tar.bz2\n",
      "https://conda.anaconda.org/conda-forge/noarch/backports.functools_lru_cache-1.6.1-py_0.tar.bz2\n",
      "https://conda.anaconda.org/conda-forge/noarch/bleach-3.2.1-pyh9f0ad1d_0.tar.bz2\n",
      "https://conda.anaconda.org/conda-forge/linux-64/distributed-2.30.1-py38h578d9bd_0.tar.bz2\n",
      "https://conda.anaconda.org/conda-forge/linux-64/graphviz-2.42.3-h0511662_0.tar.bz2\n",
      "https://conda.anaconda.org/conda-forge/noarch/jinja2-2.11.2-pyh9f0ad1d_0.tar.bz2\n",
      "https://conda.anaconda.org/conda-forge/noarch/jsonschema-3.2.0-py_2.tar.bz2\n",
      "https://conda.anaconda.org/conda-forge/noarch/jupyter_client-6.1.7-py_0.tar.bz2\n",
      "https://conda.anaconda.org/conda-forge/noarch/pip-20.2.4-py_0.tar.bz2\n",
      "https://conda.anaconda.org/conda-forge/noarch/pygments-2.7.2-py_0.tar.bz2\n",
      "https://conda.anaconda.org/conda-forge/noarch/pyopenssl-19.1.0-py_1.tar.bz2\n",
      "https://conda.anaconda.org/conda-forge/linux-64/bcrypt-3.2.0-py38h1e0a361_1.tar.bz2\n",
      "https://conda.anaconda.org/conda-forge/linux-64/bokeh-2.2.3-py38h32f6830_0.tar.bz2\n",
      "https://conda.anaconda.org/conda-forge/noarch/jupyterlab_pygments-0.1.2-pyh9f0ad1d_0.tar.bz2\n",
      "https://conda.anaconda.org/conda-forge/noarch/nbformat-5.0.8-py_0.tar.bz2\n",
      "https://conda.anaconda.org/conda-forge/noarch/python-graphviz-0.15-pyhd3deb0d_0.tar.bz2\n",
      "https://conda.anaconda.org/conda-forge/noarch/urllib3-1.25.11-py_0.tar.bz2\n",
      "https://conda.anaconda.org/conda-forge/noarch/wcwidth-0.2.5-pyh9f0ad1d_2.tar.bz2\n",
      "https://conda.anaconda.org/conda-forge/noarch/dask-2.30.0-py_0.tar.bz2\n",
      "https://conda.anaconda.org/conda-forge/noarch/nbclient-0.5.1-py_0.tar.bz2\n",
      "https://conda.anaconda.org/conda-forge/noarch/paramiko-2.7.2-pyh9f0ad1d_0.tar.bz2\n",
      "https://conda.anaconda.org/conda-forge/noarch/prompt-toolkit-3.0.8-pyha770c72_0.tar.bz2\n",
      "https://conda.anaconda.org/conda-forge/noarch/requests-2.25.0-pyhd3deb0d_0.tar.bz2\n",
      "https://conda.anaconda.org/conda-forge/linux-64/conda-4.9.2-py38h578d9bd_0.tar.bz2\n",
      "https://conda.anaconda.org/conda-forge/linux-64/ipython-7.19.0-py38h81c977d_0.tar.bz2\n",
      "https://conda.anaconda.org/conda-forge/linux-64/nbconvert-6.0.7-py38h578d9bd_3.tar.bz2\n",
      "https://conda.anaconda.org/conda-forge/linux-64/ipykernel-5.3.4-py38h81c977d_1.tar.bz2\n",
      "https://conda.anaconda.org/conda-forge/linux-64/notebook-6.1.5-py38h578d9bd_0.tar.bz2\n",
      "https://conda.anaconda.org/conda-forge/noarch/jupyterlab_server-1.2.0-py_0.tar.bz2\n",
      "https://conda.anaconda.org/conda-forge/noarch/jupyterlab-2.2.9-py_0.tar.bz2\n"
     ]
    }
   ],
   "source": [
    "!conda list --explicit"
   ]
  }
 ],
 "metadata": {
  "kernelspec": {
   "display_name": "Python 3",
   "language": "python",
   "name": "python3"
  },
  "language_info": {
   "codemirror_mode": {
    "name": "ipython",
    "version": 3
   },
   "file_extension": ".py",
   "mimetype": "text/x-python",
   "name": "python",
   "nbconvert_exporter": "python",
   "pygments_lexer": "ipython3",
   "version": "3.8.6"
  }
 },
 "nbformat": 4,
 "nbformat_minor": 4
}
