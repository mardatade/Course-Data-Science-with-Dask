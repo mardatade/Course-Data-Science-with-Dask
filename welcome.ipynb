{
 "cells": [
  {
   "cell_type": "markdown",
   "metadata": {},
   "source": [
    "# Welcome to the hands-on sessions"
   ]
  },
  {
   "cell_type": "markdown",
   "metadata": {},
   "source": [
    "## 1. What is Dask _[30 minutes?]_\n",
    "  - [dask-tutorial/01x_lazy.ipynb](dask-tutorial/01x_lazy.ipynb): Lecture-style overview of the core concept of Dask.\n",
    "  - [dask-tutorial/01_dask.delayed.ipynb](dask-tutorial/01_dask.delayed.ipynb): Simple examples for explicitly building a task graph.\n",
    "  \n",
    "## 2. Creating task graphs _[60 minutes?]_\n",
    "  - [minimal_bag_concepts.ipynb](minimal_bag_concepts.ipynb): Using Dask bag.\n",
    "  - [dask-examples/dataframe.ipynb](dask-examples/dataframe.ipynb): Dask Dataframes.\n",
    "  - [dask-examples/array.ipynb](dask-examples/array.ipynb): Dask Arrays.\n",
    "  \n",
    "## 3. Different ways of executing task graphs _[45 minutes?]_\n",
    "  - [04_distributed/01_example-workload.ipynb](04_distributed/01_example-workload.ipynb): Get to know a simple application.\n",
    "  - [04_distributed/02_single-machine.ipynb](04_distributed/02_single-machine.ipynb): Run the workflow on a single machine.\n",
    "  - [04_distributed/03_dask-distributed.ipynb](04_distributed/03_dask-distributed.ipynb): Scale _out_ to multiple machines.\n",
    "\n",
    "## 4. Parallelize machine learning with Dask _[45 minutes?]_\n",
    "  - [dask-tutorial/08_machine_learning.ipynb](dask-tutorial/08_machine_learning.ipynb): Parallelize machine learning workloads."
   ]
  }
 ],
 "metadata": {
  "kernelspec": {
   "display_name": "Python 3",
   "language": "python",
   "name": "python3"
  },
  "language_info": {
   "codemirror_mode": {
    "name": "ipython",
    "version": 3
   },
   "file_extension": ".py",
   "mimetype": "text/x-python",
   "name": "python",
   "nbconvert_exporter": "python",
   "pygments_lexer": "ipython3",
   "version": "3.6.11"
  }
 },
 "nbformat": 4,
 "nbformat_minor": 4
}
